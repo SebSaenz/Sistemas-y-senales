{
 "cells": [
  {
   "cell_type": "code",
   "execution_count": 1,
   "id": "d2af3ee4",
   "metadata": {},
   "outputs": [
    {
     "ename": "ModuleNotFoundError",
     "evalue": "No module named 'librosa'",
     "output_type": "error",
     "traceback": [
      "\u001b[1;31m---------------------------------------------------------------------------\u001b[0m",
      "\u001b[1;31mModuleNotFoundError\u001b[0m                       Traceback (most recent call last)",
      "Cell \u001b[1;32mIn[1], line 1\u001b[0m\n\u001b[1;32m----> 1\u001b[0m \u001b[38;5;28;01mimport\u001b[39;00m \u001b[38;5;21;01mlibrosa\u001b[39;00m\n\u001b[0;32m      2\u001b[0m \u001b[38;5;28;01mimport\u001b[39;00m \u001b[38;5;21;01msoundfile\u001b[39;00m \u001b[38;5;28;01mas\u001b[39;00m \u001b[38;5;21;01msf\u001b[39;00m\n\u001b[0;32m      3\u001b[0m \u001b[38;5;28;01mimport\u001b[39;00m \u001b[38;5;21;01mnumpy\u001b[39;00m \u001b[38;5;28;01mas\u001b[39;00m \u001b[38;5;21;01mnp\u001b[39;00m\n",
      "\u001b[1;31mModuleNotFoundError\u001b[0m: No module named 'librosa'"
     ]
    }
   ],
   "source": [
    "import librosa\n",
    "import soundfile as sf\n",
    "import numpy as np\n",
    "\n",
    "# Definir el rango de frecuencias deseado (por ejemplo, entre 1000 Hz y 4000 Hz)\n",
    "frecuencia_min = 250  # Frecuencia mínima (en Hz)\n",
    "frecuencia_max = 3000  # Frecuencia máxima (en Hz)\n",
    "\n",
    "# Convertir las frecuencias a bins de Mel\n",
    "mel_min = librosa.hz_to_mel(frecuencia_min)\n",
    "mel_max = librosa.hz_to_mel(frecuencia_max)\n",
    "\n",
    "# Cargar el archivo de audio\n",
    "archivo = 'Audio.wav'\n",
    "sonido, muestreo = librosa.load(archivo, sr=None)\n",
    "\n",
    "# Aplicar transformada de Fourier\n",
    "transformada = np.abs(librosa.stft(sonido))\n",
    "\n",
    "# Convertir límites de frecuencia a índices de bins\n",
    "indice_min = librosa.mel_to_hz(mel_min)\n",
    "indice_max = librosa.mel_to_hz(mel_max)\n",
    "\n",
    "# Encontrar los índices de los bins correspondientes\n",
    "indice_min = np.argmin(np.abs(librosa.fft_frequencies(sr=muestreo) - indice_min))\n",
    "indice_max = np.argmin(np.abs(librosa.fft_frequencies(sr=muestreo) - indice_max))\n",
    "\n",
    "# Crear un filtro suave con las mismas dimensiones que la transformada de Fourier\n",
    "filtro = np.ones_like(transformada)\n",
    "filtro[:indice_min] = 0\n",
    "filtro[indice_max:] = 0\n",
    "\n",
    "# Aplicar el filtro suave a la transformada de Fourier\n",
    "transformada_filtrada = transformada * filtro\n",
    "\n",
    "# Reconstruir la señal filtrada\n",
    "sonido_filtrado = librosa.istft(transformada_filtrada)\n",
    "\n",
    "# Normalizar el audio para aumentar el volumen\n",
    "sonido_filtrado = librosa.util.normalize(sonido_filtrado)\n",
    "\n",
    "# Guardar la señal filtrada normalizada como archivo de audio .wav\n",
    "output_filename = \"Audio_Final.wav\"\n",
    "sf.write(output_filename, sonido_filtrado, muestreo)\n"
   ]
  },
  {
   "cell_type": "code",
   "execution_count": null,
   "id": "a079e809-1b23-4d40-a2c3-9e7332e122ea",
   "metadata": {},
   "outputs": [],
   "source": []
  }
 ],
 "metadata": {
  "kernelspec": {
   "display_name": "Python 3 (ipykernel)",
   "language": "python",
   "name": "python3"
  },
  "language_info": {
   "codemirror_mode": {
    "name": "ipython",
    "version": 3
   },
   "file_extension": ".py",
   "mimetype": "text/x-python",
   "name": "python",
   "nbconvert_exporter": "python",
   "pygments_lexer": "ipython3",
   "version": "3.12.4"
  }
 },
 "nbformat": 4,
 "nbformat_minor": 5
}
