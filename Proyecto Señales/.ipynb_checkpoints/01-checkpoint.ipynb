{
 "cells": [
  {
   "cell_type": "code",
   "execution_count": 3,
   "id": "e0f51eef",
   "metadata": {},
   "outputs": [
    {
     "name": "stdout",
     "output_type": "stream",
     "text": [
      "grabando...\n",
      "grabación terminada\n"
     ]
    }
   ],
   "source": [
    "import pyaudio\n",
    "import wave\n",
    "\n",
    "#DEFINIMOS PARAMETROS\n",
    "FORMAT=pyaudio.paInt16\n",
    "CHANNELS=1\n",
    "RATE=44100\n",
    "CHUNK=1024\n",
    "duracion=10\n",
    "archivo=\"Audio.wav\"\n",
    "\n",
    "#INICIAMOS \"pyaudio\"\n",
    "audio=pyaudio.PyAudio()\n",
    "\n",
    "#INICIAMOS GRABACIÓN\n",
    "stream=audio.open(format=FORMAT,channels=CHANNELS,\n",
    "                    rate=RATE, input=True,\n",
    "                    frames_per_buffer=CHUNK)\n",
    "\n",
    "print(\"grabando...\")\n",
    "frames=[]\n",
    "\n",
    "for i in range(0, int(RATE/CHUNK*duracion)):\n",
    "    data=stream.read(CHUNK)\n",
    "    frames.append(data)\n",
    "print(\"grabación terminada\")\n",
    "\n",
    "#DETENEMOS GRABACIÓN\n",
    "stream.stop_stream()\n",
    "stream.close()\n",
    "audio.terminate()\n",
    "\n",
    "#CREAMOS/GUARDAMOS EL ARCHIVO DE AUDIO\n",
    "waveFile = wave.open(archivo, 'wb')\n",
    "waveFile.setnchannels(CHANNELS)\n",
    "waveFile.setsampwidth(audio.get_sample_size(FORMAT))\n",
    "waveFile.setframerate(RATE)\n",
    "waveFile.writeframes(b''.join(frames))\n",
    "waveFile.close()"
   ]
  },
  {
   "cell_type": "code",
   "execution_count": null,
   "id": "0266e280",
   "metadata": {},
   "outputs": [],
   "source": []
  }
 ],
 "metadata": {
  "kernelspec": {
   "display_name": "Python 3 (ipykernel)",
   "language": "python",
   "name": "python3"
  },
  "language_info": {
   "codemirror_mode": {
    "name": "ipython",
    "version": 3
   },
   "file_extension": ".py",
   "mimetype": "text/x-python",
   "name": "python",
   "nbconvert_exporter": "python",
   "pygments_lexer": "ipython3",
   "version": "3.11.7"
  }
 },
 "nbformat": 4,
 "nbformat_minor": 5
}
