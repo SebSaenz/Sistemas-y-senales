{
 "cells": [
  {
   "cell_type": "code",
   "execution_count": null,
   "id": "d2af3ee4",
   "metadata": {},
   "outputs": [],
   "source": [
    "import librosa\n",
    "import soundfile as sf\n",
    "import numpy as np\n",
    "\n",
    "# Definir el rango de frecuencias deseado (por ejemplo, entre 1000 Hz y 4000 Hz)\n",
    "frecuencia_min = 250  # Frecuencia mínima (en Hz)\n",
    "frecuencia_max = 3000  # Frecuencia máxima (en Hz)\n",
    "\n",
    "# Convertir las frecuencias a bins de Mel\n",
    "mel_min = librosa.hz_to_mel(frecuencia_min)\n",
    "mel_max = librosa.hz_to_mel(frecuencia_max)\n",
    "\n",
    "# Cargar el archivo de audio\n",
    "archivo = 'Audio.wav'\n",
    "sonido, muestreo = librosa.load(archivo, sr=None)\n",
    "\n",
    "# Aplicar transformada de Fourier\n",
    "transformada = np.abs(librosa.stft(sonido))\n",
    "\n",
    "# Convertir límites de frecuencia a índices de bins\n",
    "indice_min = librosa.mel_to_hz(mel_min)\n",
    "indice_max = librosa.mel_to_hz(mel_max)\n",
    "\n",
    "# Encontrar los índices de los bins correspondientes\n",
    "indice_min = np.argmin(np.abs(librosa.fft_frequencies(sr=muestreo) - indice_min))\n",
    "indice_max = np.argmin(np.abs(librosa.fft_frequencies(sr=muestreo) - indice_max))\n",
    "\n",
    "# Crear un filtro suave con las mismas dimensiones que la transformada de Fourier\n",
    "filtro = np.ones_like(transformada)\n",
    "filtro[:indice_min] = 0\n",
    "filtro[indice_max:] = 0\n",
    "\n",
    "# Aplicar el filtro suave a la transformada de Fourier\n",
    "transformada_filtrada = transformada * filtro\n",
    "\n",
    "# Reconstruir la señal filtrada\n",
    "sonido_filtrado = librosa.istft(transformada_filtrada)\n",
    "\n",
    "# Normalizar el audio para aumentar el volumen\n",
    "sonido_filtrado = librosa.util.normalize(sonido_filtrado)\n",
    "\n",
    "# Guardar la señal filtrada normalizada como archivo de audio .wav\n",
    "output_filename = \"Audio_Final.wav\"\n",
    "sf.write(output_filename, sonido_filtrado, muestreo)\n"
   ]
  }
 ],
 "metadata": {
  "kernelspec": {
   "display_name": "Python 3 (ipykernel)",
   "language": "python",
   "name": "python3"
  },
  "language_info": {
   "codemirror_mode": {
    "name": "ipython",
    "version": 3
   },
   "file_extension": ".py",
   "mimetype": "text/x-python",
   "name": "python",
   "nbconvert_exporter": "python",
   "pygments_lexer": "ipython3",
   "version": "3.11.7"
  }
 },
 "nbformat": 4,
 "nbformat_minor": 5
}
