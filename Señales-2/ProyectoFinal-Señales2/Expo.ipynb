{
 "cells": [
  {
   "cell_type": "markdown",
   "id": "835f24c0-1acf-4a9a-a2ed-e4469d14c0fa",
   "metadata": {},
   "source": [
    "# Expo"
   ]
  },
  {
   "cell_type": "markdown",
   "id": "a1881fa0-f9d1-42c5-9d58-790957c9a431",
   "metadata": {},
   "source": [
    "# Librerias"
   ]
  },
  {
   "cell_type": "code",
   "execution_count": 11,
   "id": "961128ec-923d-4810-89a6-00527b737f9c",
   "metadata": {},
   "outputs": [],
   "source": [
    "from PIL import Image\n",
    "import numpy as np\n",
    "import matplotlib.pyplot as plt\n",
    "import tkinter as tk\n",
    "from tkinter import filedialog, Scale"
   ]
  },
  {
   "cell_type": "markdown",
   "id": "4e4fefd7-49ad-4118-b5a9-b21828a30bcf",
   "metadata": {},
   "source": [
    "# Funciones"
   ]
  },
  {
   "cell_type": "markdown",
   "id": "52e34728-3358-4fbe-a71b-9eac1c5a05e6",
   "metadata": {},
   "source": [
    "## def cargar_imagen: \n",
    "## Esta función recibe una ruta de archivo como argumento, abre la imagen y la convierte al formato RGB.\n",
    "## Parámetros:\n",
    "### ruta: Ruta del archivo de imagen.\n",
    "### Retorno: Imagen cargada en formato RGB."
   ]
  },
  {
   "cell_type": "code",
   "execution_count": 8,
   "id": "fff1edff-8ec3-4b94-b079-2045d6d5850d",
   "metadata": {},
   "outputs": [],
   "source": [
    "def cargar_imagen(ruta):\n",
    "    imagen = Image.open(ruta).convert('RGB')\n",
    "    return imagen"
   ]
  },
  {
   "cell_type": "markdown",
   "id": "55fd7bcc-72e0-4bff-8f70-239701000783",
   "metadata": {},
   "source": [
    "## def mostrar_imagen(imagen):\n",
    "\n",
    "## Muestra la imagen utilizando matplotlib.\n",
    "## Parámetros:\n",
    "### imagen: Imagen que se desea mostrar."
   ]
  },
  {
   "cell_type": "code",
   "execution_count": 9,
   "id": "3273d345-3f83-46b9-b1f6-036e8fd2dd23",
   "metadata": {},
   "outputs": [],
   "source": [
    "def mostrar_imagen(imagen):\n",
    "    plt.imshow(imagen)\n",
    "    plt.axis('off')  # Desactiva los ejes de la imagen.\n",
    "    plt.show()"
   ]
  },
  {
   "cell_type": "markdown",
   "id": "0073f3ec-8232-4996-99e9-deba8fe95840",
   "metadata": {},
   "source": [
    "## def aplicar_ajuste_frecuencia(imagen, r_factor, g_factor, b_factor):\n",
    "\n",
    "        ## Esta función realiza un ajuste de la imagen en el dominio de frecuencia utilizando FFT. Los factores de ajuste se aplican a los canales de color rojo, verde y azul de la imagen.\n",
    "## Parámetros:\n",
    "### imagen: Imagen en formato RGB a procesar.\n",
    "### r_factor, g_factor, b_factor: \n",
    "#### Factores de ajuste para los canales de color rojo, verde y azul, respectivamente.\n",
    "### Retorno: Imagen procesada con el ajuste de frecuencia aplicado."
   ]
  },
  {
   "cell_type": "code",
   "execution_count": 10,
   "id": "6336e9e8-541a-4634-9ee5-9300e94acb6e",
   "metadata": {},
   "outputs": [],
   "source": [
    "def aplicar_ajuste_frecuencia(imagen, r_factor, g_factor, b_factor):\n",
    "    img_array = np.array(imagen)  # Convertimos la imagen a un array de numpy\n",
    "\n",
    "    # Aplicar FFT en cada canal\n",
    "    img_filtrada = np.zeros_like(img_array, dtype=np.float64)\n",
    "    for c, factor in zip(range(3), [r_factor, g_factor, b_factor]):\n",
    "        # Descomponer en frecuencia\n",
    "        canal_fft = np.fft.fftshift(np.fft.fft2(img_array[..., c]))\n",
    "\n",
    "        # Ajustar todas las frecuencias del canal con el factor dado\n",
    "        canal_fft_ajustado = canal_fft * factor\n",
    "\n",
    "        # Volver al dominio espacial\n",
    "        img_filtrada[..., c] = np.abs(np.fft.ifft2(np.fft.ifftshift(canal_fft_ajustado)))\n",
    "\n",
    "    # Escalar la imagen para asegurar que los valores no excedan 255 y convertir a uint8\n",
    "    img_filtrada = np.clip(img_filtrada, 0, 255).astype(np.uint8)\n",
    "\n",
    "    # Asegurar que la imagen sea blanca cuando los factores estén en su máximo\n",
    "    img_filtrada = np.clip(img_filtrada, 0, 255)\n",
    "\n",
    "    return Image.fromarray(img_filtrada)"
   ]
  },
  {
   "cell_type": "markdown",
   "id": "b292c837-49d8-4904-8594-9e97c8cfe94d",
   "metadata": {},
   "source": [
    "## def cargar_y_aplicar_ajuste_gui():\n",
    "\n",
    "## Esta función permite al usuario cargar una imagen desde su sistema mediante la GUI. Luego aplica el ajuste RGB utilizando los valores de los deslizadores.\n"
   ]
  },
  {
   "cell_type": "code",
   "execution_count": 5,
   "id": "2dcfc77c-0ca4-4e1b-8e16-aefbbad7d796",
   "metadata": {},
   "outputs": [],
   "source": [
    "def cargar_y_aplicar_ajuste_gui():\n",
    "    ruta = filedialog.askopenfilename()\n",
    "    if ruta:\n",
    "        global imagen_original\n",
    "        imagen_original = cargar_imagen(ruta)\n",
    "        aplicar_ajuste_rgb_gui()"
   ]
  },
  {
   "cell_type": "markdown",
   "id": "45436664-2cf2-4f6a-930a-82d46224fc28",
   "metadata": {},
   "source": [
    "## def aplicar_ajuste_rgb_gui():\n",
    "\n",
    "## Esta función toma los valores de los deslizadores de la GUI y ajusta los canales RGB de la imagen original en el dominio de frecuencia.\n",
    "## Parámetros: Ninguno.\n",
    "## Retorno: Ninguno (solo muestra la imagen ajustada)."
   ]
  },
  {
   "cell_type": "code",
   "execution_count": null,
   "id": "3c298667-0a3c-4653-9767-46542e4e0b4b",
   "metadata": {},
   "outputs": [],
   "source": [
    "def aplicar_ajuste_rgb_gui():\n",
    "    if imagen_original:\n",
    "        r_factor = r_slider.get()\n",
    "        g_factor = g_slider.get()\n",
    "        b_factor = b_slider.get()\n",
    "        imagen_ajustada = aplicar_ajuste_frecuencia(imagen_original, r_factor, g_factor, b_factor)\n",
    "        mostrar_imagen(imagen_ajustada)"
   ]
  }
 ],
 "metadata": {
  "kernelspec": {
   "display_name": "Python [conda env:base] *",
   "language": "python",
   "name": "conda-base-py"
  },
  "language_info": {
   "codemirror_mode": {
    "name": "ipython",
    "version": 3
   },
   "file_extension": ".py",
   "mimetype": "text/x-python",
   "name": "python",
   "nbconvert_exporter": "python",
   "pygments_lexer": "ipython3",
   "version": "3.12.7"
  }
 },
 "nbformat": 4,
 "nbformat_minor": 5
}
