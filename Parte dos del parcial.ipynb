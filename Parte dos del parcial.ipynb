{
 "cells": [
  {
   "cell_type": "markdown",
   "id": "6c1d9acc-7915-4263-818b-e882447b3acb",
   "metadata": {},
   "source": [
    "# Graficas"
   ]
  },
  {
   "cell_type": "code",
   "execution_count": null,
   "id": "6fc14fd1",
   "metadata": {},
   "outputs": [],
   "source": [
    "import numpy as np\n",
    "import matplotlib.pyplot as plt\n",
    "from scipy.fft import fft, fftfreq\n",
    "\n",
    "# Definir la función para la cual quieres encontrar la serie de Fourier\n",
    "def f(t):\n",
    "    return t**2 / 2\n",
    "\n",
    "# Definir los parámetros\n",
    "a = -np.pi\n",
    "b = np.pi\n",
    "N = 1000  # Número de puntos de muestreo\n",
    "T = (b - a) / N  # Espaciado entre puntos\n",
    "\n",
    "# Generar puntos de muestreo\n",
    "t = np.linspace(a, b, N)\n",
    "y = f(t)\n",
    "\n",
    "# Calcular la transformada de Fourier\n",
    "yf = fft(y)\n",
    "xf = fftfreq(N, T)[:N//2]  # Frecuencias positivas\n",
    "\n",
    "# Graficar la función y su transformada de Fourier\n",
    "plt.subplot(2, 1, 1)\n",
    "plt.plot(t, y)\n",
    "plt.title('Función Original')\n",
    "plt.xlabel('t')\n",
    "plt.ylabel('f(t)')\n",
    "\n",
    "\n",
    "plt.subplot(2, 1, 2)\n",
    "plt.plot(xf, 2.0/N * np.abs(yf[0:N//2]))\n",
    "plt.title('Transformada de Fourier')\n",
    "plt.xlabel('Frecuencia')\n",
    "plt.ylabel('Amplitud')\n",
    "\n",
    "\n",
    "plt.tight_layout()\n",
    "plt.show()\n"
   ]
  },
  {
   "cell_type": "code",
   "execution_count": null,
   "id": "d1abc689",
   "metadata": {},
   "outputs": [],
   "source": [
    "import numpy as np\n",
    "\n",
    "# Definición de la función\n",
    "def F(t):\n",
    "    return t**2 / 2\n",
    "\n",
    "# Definición de los coeficientes de la serie de Fourier\n",
    "def a0():\n",
    "    return 1 / (2 * np.pi) * np.trapz(F(t), t)\n",
    "\n",
    "def an(n):\n",
    "    return 1 / np.pi * np.trapz(F(t) * np.cos(n * t), t)\n",
    "\n",
    "def bn(n):\n",
    "    return 1 / np.pi * np.trapz(F(t) * np.sin(n * t), t)\n",
    "\n",
    "# Rango de t\n",
    "t = np.linspace(-np.pi, np.pi, 1000)\n",
    "\n",
    "# Cálculo de la serie de Fourier\n",
    "def fourier_series(N):\n",
    "    result = a0() / 2\n",
    "    for n in range(1, N + 1):\n",
    "        result += an(n) * np.cos(n * t) + bn(n) * np.sin(n * t)\n",
    "    return result\n",
    "\n",
    "# Cantidad de términos en la serie\n",
    "N = 10\n",
    "\n",
    "# Gráfica de la serie de Fourier\n",
    "import matplotlib.pyplot as plt\n",
    "plt.plot(t, F(t), label='Función original')\n",
    "plt.plot(t, fourier_series(N), label='Serie de Fourier (N={})'.format(N))\n",
    "plt.xlabel('t')\n",
    "plt.ylabel('F(t)')\n",
    "plt.legend()\n",
    "plt.show()\n",
    "\n",
    "print(result)\n",
    "print(an)\n",
    "print(bn)"
   ]
  },
  {
   "cell_type": "code",
   "execution_count": null,
   "id": "81ea082f",
   "metadata": {},
   "outputs": [],
   "source": []
  }
 ],
 "metadata": {
  "kernelspec": {
   "display_name": "Python 3 (ipykernel)",
   "language": "python",
   "name": "python3"
  },
  "language_info": {
   "codemirror_mode": {
    "name": "ipython",
    "version": 3
   },
   "file_extension": ".py",
   "mimetype": "text/x-python",
   "name": "python",
   "nbconvert_exporter": "python",
   "pygments_lexer": "ipython3",
   "version": "3.11.7"
  }
 },
 "nbformat": 4,
 "nbformat_minor": 5
}
